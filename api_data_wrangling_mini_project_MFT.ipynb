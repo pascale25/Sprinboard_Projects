{
 "cells": [
  {
   "cell_type": "markdown",
   "metadata": {},
   "source": [
    "This exercise will require you to pull some data from the Qunadl API. Qaundl is currently the most widely used aggregator of financial market data."
   ]
  },
  {
   "cell_type": "markdown",
   "metadata": {},
   "source": [
    "As a first step, you will need to register a free account on the http://www.quandl.com website."
   ]
  },
  {
   "cell_type": "markdown",
   "metadata": {},
   "source": [
    "After you register, you will be provided with a unique API key, that you should store:"
   ]
  },
  {
   "cell_type": "code",
   "execution_count": 1,
   "metadata": {
    "jupyter": {
     "outputs_hidden": true
    }
   },
   "outputs": [],
   "source": [
    "#*-+\n",
    "#-# Store the API key as a string - according to PEP8, constants are always named in all upper case\n",
    "# API_KEY = 'YOUR_API_KEY_HERE'"
   ]
  },
  {
   "cell_type": "code",
   "execution_count": 2,
   "metadata": {},
   "outputs": [],
   "source": [
    "#Welcome to Quandl!\n",
    "#YOUR API KEY IS:\n",
    "#   k19cca8pct3xEAN6YDgC\n",
    "#and can be found in your account settings.\n",
    "#Any help you need to get started using our data can be found in the help section.\n",
    "#CONTINUE"
   ]
  },
  {
   "cell_type": "code",
   "execution_count": 3,
   "metadata": {},
   "outputs": [],
   "source": [
    "#API_KEY = 'k19cca8pct3xEAN6YDgC'"
   ]
  },
  {
   "cell_type": "markdown",
   "metadata": {},
   "source": [
    "Qaundl has a large number of data sources, but, unfortunately, most of them require a Premium subscription. Still, there are also a good number of free datasets."
   ]
  },
  {
   "cell_type": "markdown",
   "metadata": {},
   "source": [
    "For this mini project, we will focus on equities data from the Frankfurt Stock Exhange (FSE), which is available for free. We'll try and analyze the stock prices of a company called Carl Zeiss Meditec, which manufactures tools for eye examinations, as well as medical lasers for laser eye surgery: https://www.zeiss.com/meditec/int/home.html. The company is listed under the stock ticker AFX_X."
   ]
  },
  {
   "cell_type": "markdown",
   "metadata": {},
   "source": [
    "You can find the detailed Quandl API instructions here: https://docs.quandl.com/docs/time-series"
   ]
  },
  {
   "cell_type": "markdown",
   "metadata": {},
   "source": [
    "While there is a dedicated Python package for connecting to the Quandl API, we would prefer that you use the *requests* package, which can be easily downloaded using *pip* or *conda*. You can find the documentation for the package here: http://docs.python-requests.org/en/master/ "
   ]
  },
  {
   "cell_type": "markdown",
   "metadata": {},
   "source": [
    "Finally, apart from the *requests* package, you are encouraged to not use any third party Python packages, such as *pandas*, and instead focus on what's available in the Python Standard Library (the *collections* module might come in handy: https://pymotw.com/3/collections/ ).\n",
    "Also, since you won't have access to DataFrames, you are encouraged to us Python's native data structures - preferably dictionaries, though some questions can also be answered using lists.\n",
    "You can read more on these data structures here: https://docs.python.org/3/tutorial/datastructures.html"
   ]
  },
  {
   "cell_type": "markdown",
   "metadata": {},
   "source": [
    "Keep in mind that the JSON responses you will be getting from the API map almost one-to-one to Python's dictionaries. Unfortunately, they can be very nested, so make sure you read up on indexing dictionaries in the documentation provided above."
   ]
  },
  {
   "cell_type": "markdown",
   "metadata": {},
   "source": [
    "Note: API's can change a bit with each version, for this exercise it is reccomended to use the \"V3\" quandl api at https://www.quandl.com/api/v3/"
   ]
  },
  {
   "cell_type": "markdown",
   "metadata": {},
   "source": [
    "These are your tasks for this mini project:\n",
    "\n",
    "Collect data from the Franfurt Stock Exchange, for the ticker AFX_X, for the whole year 2017 (keep in mind that the date format is YYYY-MM-DD).\n",
    "Convert the returned JSON object into a Python dictionary.\n",
    "Calculate what the highest and lowest opening prices were for the stock in this period.\n",
    "What was the largest change in any one day (based on High and Low price)?\n",
    "What was the largest change between any two days (based on Closing Price)?\n",
    "What was the average daily trading volume during this year?\n",
    "(Optional) What was the median trading volume during this year. (Note: you may need to implement your own function for calculating the median.)"
   ]
  },
  {
   "cell_type": "code",
   "execution_count": 4,
   "metadata": {
    "jupyter": {
     "outputs_hidden": true
    }
   },
   "outputs": [],
   "source": [
    "# First, import the relevant modules\n",
    "import requests \n",
    "import collections\n",
    "import json"
   ]
  },
  {
   "cell_type": "code",
   "execution_count": 5,
   "metadata": {},
   "outputs": [],
   "source": [
    "#url1=\"https://www.quandl.com/data/XFRA/AFX?start_date=2017-01-01&end_date=2017-12-31/api_key=k19cca8pct3xEAN6YDgC\""
   ]
  },
  {
   "cell_type": "code",
   "execution_count": 6,
   "metadata": {},
   "outputs": [],
   "source": [
    "url=\"https://www.quandl.com/api/v3/datasets//FSE/AFX_X/data.json?api_key=k19cca8pct3xEAN6YDgC\""
   ]
  },
  {
   "cell_type": "code",
   "execution_count": 7,
   "metadata": {},
   "outputs": [],
   "source": [
    "res = requests.get(url)\n",
    "# Decode the JSON data into a dictionary: json_data\n",
    "data = res.json()\n",
    "data=data['dataset_data']\n",
    "# Extract the data from the dictionary\n",
    "data_data= data['data']\n",
    "data_column_names= data['column_names']"
   ]
  },
  {
   "cell_type": "code",
   "execution_count": 8,
   "metadata": {},
   "outputs": [],
   "source": [
    "#extract the 2017 data\n",
    "data_2017 = []\n",
    "for row in data_data:\n",
    "    if row[0].startswith('2017'):\n",
    "        data_2017.append(row[0:])\n",
    "#print(len(data_2017))"
   ]
  },
  {
   "cell_type": "markdown",
   "metadata": {},
   "source": [
    "### 1.Calculate what the highest and lowest opening prices were for the stock in this period."
   ]
  },
  {
   "cell_type": "code",
   "execution_count": 9,
   "metadata": {
    "scrolled": false
   },
   "outputs": [
    {
     "name": "stdout",
     "output_type": "stream",
     "text": [
      "the highest opening prices for the stock in this period is: 53.11\n",
      "the lowest opening prices for the stock in this period is : 34.0\n"
     ]
    }
   ],
   "source": [
    "# Create the empty list: \n",
    "Open = []\n",
    "# Loop over data_2017\n",
    "for row in data_2017:\n",
    "    # Add the row to the list\n",
    "    if row[1]!=None:\n",
    "        Open.append(row[1])\n",
    "\n",
    "print('the highest opening prices for the stock in this period is:',  max(Open))\n",
    "print('the lowest opening prices for the stock in this period is :', min(Open))"
   ]
  },
  {
   "cell_type": "markdown",
   "metadata": {},
   "source": [
    "### 2. What was the largest change in any one day (based on High and Low price)?"
   ]
  },
  {
   "cell_type": "code",
   "execution_count": 10,
   "metadata": {},
   "outputs": [
    {
     "name": "stdout",
     "output_type": "stream",
     "text": [
      "largest change in any one day is: 2.8100000000000023\n"
     ]
    }
   ],
   "source": [
    "# Create the empty list: \n",
    "# change is the difference between High and low price \n",
    "change =[]\n",
    "# Loop over data_2017\n",
    "for row in data_2017:\n",
    "    if (row[2]!=None) and (row[3]!=None):\n",
    "    # Add the row to the list\n",
    "        change.append(row[2]-row[3])\n",
    "print('largest change in any one day is:', max(change))"
   ]
  },
  {
   "cell_type": "markdown",
   "metadata": {},
   "source": [
    "### What was the largest change between any two days (based on Closing Price)?"
   ]
  },
  {
   "cell_type": "code",
   "execution_count": 11,
   "metadata": {
    "scrolled": true
   },
   "outputs": [
    {
     "name": "stdout",
     "output_type": "stream",
     "text": [
      "largest change between any two days (based on Closing Price is) : 2.559999999999995\n"
     ]
    }
   ],
   "source": [
    "close_prices=[]\n",
    "for data in data_2017:\n",
    "    if data[4]!=None:\n",
    "        close_prices.append(data[4])\n",
    "# use of number to index value over list \n",
    "change_close_price = []\n",
    "for n in range (1, len(close_prices)):\n",
    "    change_close_price.append(close_prices[n] - close_prices[n-1])\n",
    "# print(change_close_price)\n",
    "print('largest change between any two days (based on Closing Price is) :', max(change_close_price))"
   ]
  },
  {
   "cell_type": "markdown",
   "metadata": {},
   "source": [
    "### What was the average daily trading volume during this year?"
   ]
  },
  {
   "cell_type": "code",
   "execution_count": 12,
   "metadata": {},
   "outputs": [
    {
     "name": "stdout",
     "output_type": "stream",
     "text": [
      "the average daily trading volume during this year is: 89124.33725490196\n"
     ]
    }
   ],
   "source": [
    "#6 What was the average daily trading volume during this year?\n",
    "traded_volume=[]\n",
    "for data in data_2017:\n",
    "    if data[6]!=None:\n",
    "        traded_volume.append(data[6])\n",
    "avg_daily_trading_volume = sum(traded_volume)/len(traded_volume)\n",
    "print('the average daily trading volume during this year is:', avg_daily_trading_volume)"
   ]
  },
  {
   "cell_type": "markdown",
   "metadata": {},
   "source": [
    "### (Optional) What was the median trading volume during this year. (Note: you may need to implement your own function for calculating the median.)"
   ]
  },
  {
   "cell_type": "code",
   "execution_count": 13,
   "metadata": {},
   "outputs": [],
   "source": [
    "def median (List):\n",
    "    sortedlist= sorted(List)\n",
    "    if len(List) % 2 == 0:\n",
    "        mid_index = int(len(List)/2)\n",
    "        median = (sortedlist[mid_index]+ sortedlist[mid_index - 1])/2 # index start at zero\n",
    "    else: \n",
    "        mid_index= int(len(List)/2)\n",
    "        median = sortedlist[mid_index]\n",
    "    return median"
   ]
  },
  {
   "cell_type": "code",
   "execution_count": 14,
   "metadata": {},
   "outputs": [
    {
     "name": "stdout",
     "output_type": "stream",
     "text": [
      "the median trading volume during this year is : 76286.0\n"
     ]
    }
   ],
   "source": [
    "print('the median trading volume during this year is :', median(traded_volume))"
   ]
  },
  {
   "cell_type": "markdown",
   "metadata": {},
   "source": [
    "End "
   ]
  }
 ],
 "metadata": {
  "kernelspec": {
   "display_name": "Python 3 (ipykernel)",
   "language": "python",
   "name": "python3"
  },
  "language_info": {
   "codemirror_mode": {
    "name": "ipython",
    "version": 3
   },
   "file_extension": ".py",
   "mimetype": "text/x-python",
   "name": "python",
   "nbconvert_exporter": "python",
   "pygments_lexer": "ipython3",
   "version": "3.9.7"
  }
 },
 "nbformat": 4,
 "nbformat_minor": 4
}
