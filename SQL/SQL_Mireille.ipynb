{
 "cells": [
  {
   "cell_type": "code",
   "execution_count": null,
   "id": "e7b96f87",
   "metadata": {},
   "outputs": [],
   "source": []
  },
  {
   "cell_type": "code",
   "execution_count": 2,
   "id": "45ec9fd0",
   "metadata": {},
   "outputs": [],
   "source": [
    "from sqlalchemy import create_engine"
   ]
  },
  {
   "cell_type": "code",
   "execution_count": null,
   "id": "1193ed59",
   "metadata": {},
   "outputs": [],
   "source": []
  },
  {
   "cell_type": "code",
   "execution_count": 5,
   "id": "abe7d700",
   "metadata": {},
   "outputs": [],
   "source": [
    "# engine = create_engine('sqlite_db_pythonsqlite.db')"
   ]
  },
  {
   "cell_type": "code",
   "execution_count": 3,
   "id": "6f5356ab",
   "metadata": {},
   "outputs": [
    {
     "name": "stdout",
     "output_type": "stream",
     "text": [
      "2.6.0\n",
      "2. Query all tasks\n",
      "(0, 'Tennis Court 1', 5, 25, 10000, 200)\n",
      "(1, 'Tennis Court 2', 5, 25, 8000, 200)\n",
      "(2, 'Badminton Court', 0, 15.5, 4000, 50)\n",
      "(3, 'Table Tennis', 0, 5, 320, 10)\n",
      "(4, 'Massage Room 1', 9.9, 80, 4000, 3000)\n",
      "(5, 'Massage Room 2', 9.9, 80, 4000, 3000)\n",
      "(6, 'Squash Court', 3.5, 17.5, 5000, 80)\n",
      "(7, 'Snooker Table', 0, 5, 450, 15)\n",
      "(8, 'Pool Table', 0, 5, 400, 15)\n"
     ]
    }
   ],
   "source": [
    "import sqlite3\n",
    "from sqlite3 import Error\n",
    "\n",
    " \n",
    "def create_connection(db_file):\n",
    "    \"\"\" create a database connection to the SQLite database\n",
    "        specified by the db_file\n",
    "    :param db_file: database file\n",
    "    :return: Connection object or None\n",
    "    \"\"\"\n",
    "    conn = None\n",
    "    try:\n",
    "        conn = sqlite3.connect(db_file)\n",
    "        print(sqlite3.version)\n",
    "    except Error as e:\n",
    "        print(e)\n",
    " \n",
    "    return conn\n",
    "\n",
    " \n",
    "def select_all_tasks(conn):\n",
    "    \"\"\"\n",
    "    Query all rows in the tasks table\n",
    "    :param conn: the Connection object\n",
    "    :return:\n",
    "    \"\"\"\n",
    "    cur = conn.cursor()\n",
    "    \n",
    "    query1 = \"\"\"\n",
    "        SELECT *\n",
    "        FROM FACILITIES\n",
    "        \"\"\"\n",
    "    cur.execute(query1)\n",
    " \n",
    "    rows = cur.fetchall()\n",
    " \n",
    "    for row in rows:\n",
    "        print(row)\n",
    "\n",
    "\n",
    "def main():\n",
    "    database = \"sqlite_db_pythonsqlite.db\"\n",
    " \n",
    "    # create a database connection\n",
    "    conn = create_connection(database)\n",
    "    with conn: \n",
    "        print(\"2. Query all tasks\")\n",
    "        select_all_tasks(conn)\n",
    " \n",
    " \n",
    "if __name__ == '__main__':\n",
    "    main()"
   ]
  },
  {
   "cell_type": "code",
   "execution_count": null,
   "id": "fe13f431",
   "metadata": {},
   "outputs": [],
   "source": []
  },
  {
   "cell_type": "markdown",
   "id": "c9a9ffeb",
   "metadata": {},
   "source": [
    "QUESTIONS:\n",
    "/* Q10: Produce a list of facilities with a total revenue less than 1000.\n",
    "The output of facility name and total revenue, sorted by revenue. Remember\n",
    "that there's a different cost for guests and members! */\n",
    "\n",
    "/* Q11: Produce a report of members and who recommended them in alphabetic surname,firstname order */\n",
    "\n",
    "\n",
    "/* Q12: Find the facilities with their usage by member, but not guests */\n",
    "\n",
    "\n",
    "/* Q13: Find the facilities usage by month, but not guests */"
   ]
  },
  {
   "cell_type": "code",
   "execution_count": null,
   "id": "2d15eb16",
   "metadata": {},
   "outputs": [],
   "source": []
  },
  {
   "cell_type": "code",
   "execution_count": 7,
   "id": "83fa0429",
   "metadata": {},
   "outputs": [
    {
     "name": "stdout",
     "output_type": "stream",
     "text": [
      "2.6.0\n",
      "(0, 'Tennis Court 1', 5, 25, 10000, 200)\n",
      "(1, 'Tennis Court 2', 5, 25, 8000, 200)\n",
      "(2, 'Badminton Court', 0, 15.5, 4000, 50)\n",
      "(3, 'Table Tennis', 0, 5, 320, 10)\n",
      "(4, 'Massage Room 1', 9.9, 80, 4000, 3000)\n",
      "(5, 'Massage Room 2', 9.9, 80, 4000, 3000)\n",
      "(6, 'Squash Court', 3.5, 17.5, 5000, 80)\n",
      "(7, 'Snooker Table', 0, 5, 450, 15)\n",
      "(8, 'Pool Table', 0, 5, 400, 15)\n"
     ]
    }
   ],
   "source": [
    "database = \"sqlite_db_pythonsqlite.db\"\n",
    " \n",
    "# create a database connection\n",
    "conn = create_connection(database)\n",
    "cur = conn.cursor()\n",
    "    \n",
    "query1 = \"\"\"\n",
    "        SELECT *\n",
    "        FROM FACILITIES\n",
    "        \"\"\"\n",
    "cur.execute(query1)\n",
    " \n",
    "rows = cur.fetchall()\n",
    " \n",
    "for row in rows:\n",
    "        print(row)"
   ]
  },
  {
   "cell_type": "code",
   "execution_count": null,
   "id": "01995561",
   "metadata": {},
   "outputs": [],
   "source": [
    "#/* Q10: Produce a list of facilities with a total revenue less than 1000.\n",
    "#The output of facility name and total revenue, sorted by revenue. Remember\n",
    "#that there's a different cost for guests and members! */"
   ]
  },
  {
   "cell_type": "code",
   "execution_count": 8,
   "id": "877b6b0b",
   "metadata": {},
   "outputs": [
    {
     "name": "stdout",
     "output_type": "stream",
     "text": [
      "2.6.0\n",
      "('Massage Room 2', 179.8)\n",
      "('Massage Room 1', 179.8)\n",
      "('Tennis Court 2', 60)\n",
      "('Tennis Court 1', 60)\n",
      "('Squash Court', 42.0)\n",
      "('Badminton Court', 31.0)\n",
      "('Table Tennis', 10)\n",
      "('Snooker Table', 10)\n",
      "('Pool Table', 10)\n"
     ]
    }
   ],
   "source": [
    "database = \"sqlite_db_pythonsqlite.db\"\n",
    " \n",
    "# create a database connection\n",
    "conn = create_connection(database)\n",
    "cur = conn.cursor()\n",
    "    \n",
    "query1 = \"\"\" SELECT DISTINCT(F.name), \n",
    "(F.guestcost * B.slots) + ( F.membercost * B.slots ) AS total_revenue\n",
    "FROM Bookings AS B\n",
    "INNER JOIN Facilities AS F \n",
    "GROUP BY F.name\n",
    "HAVING total_revenue <1000\n",
    "ORDER BY total_revenue DESC \"\"\"\n",
    "\n",
    "cur.execute(query1)\n",
    " \n",
    "rows = cur.fetchall()\n",
    " \n",
    "for row in rows:\n",
    "        print(row)"
   ]
  },
  {
   "cell_type": "code",
   "execution_count": null,
   "id": "e5c478e5",
   "metadata": {},
   "outputs": [],
   "source": [
    "#/* Q11: Produce a report of members and who recommended them in alphabetic surname,firstname order */"
   ]
  },
  {
   "cell_type": "code",
   "execution_count": 18,
   "id": "d40b997e",
   "metadata": {},
   "outputs": [
    {
     "name": "stdout",
     "output_type": "stream",
     "text": [
      "2.6.0\n",
      "('Bader', 'Florence', 'Stibbons')\n",
      "('Baker', 'Anne', 'Stibbons')\n",
      "('Baker', 'Timothy', 'Farrell')\n",
      "('Boothe', 'Tim', 'Rownam')\n",
      "('Butters', 'Gerald', 'Smith')\n",
      "('Coplin', 'Joan', 'Baker')\n",
      "('Crumpet', 'Erica', 'Smith')\n",
      "('Dare', 'Nancy', 'Joplette')\n",
      "('Genting', 'Matthew', 'Butters')\n",
      "('Hunt', 'John', 'Purview')\n",
      "('Jones', 'David', 'Joplette')\n",
      "('Jones', 'Douglas', 'Jones')\n",
      "('Joplette', 'Janice', 'Smith')\n",
      "('Mackenzie', 'Anna', 'Smith')\n",
      "('Owen', 'Charles', 'Smith')\n",
      "('Pinker', 'David', 'Farrell')\n",
      "('Purview', 'Millicent', 'Smith')\n",
      "('Rumney', 'Henrietta', 'Genting')\n",
      "('Sarwin', 'Ramnaresh', 'Bader')\n",
      "('Smith', 'Jack', 'Smith')\n",
      "('Stibbons', 'Ponder', 'Tracy')\n",
      "('Worthington-Smyth', 'Henry', 'Smith')\n"
     ]
    }
   ],
   "source": [
    "database = \"sqlite_db_pythonsqlite.db\"\n",
    " \n",
    "# create a database connection\n",
    "conn = create_connection(database)\n",
    "cur = conn.cursor()\n",
    "\n",
    "query2= \"\"\"SELECT M1.surname, M1.firstname,  M2.surname as recommendedby\n",
    "FROM Members AS M1, Members AS M2\n",
    "WHERE M1.recommendedby = M2.memid\n",
    "ORDER BY M1.surname, M1.firstname\"\"\"\n",
    "\n",
    "cur.execute(query2)\n",
    " \n",
    "rows = cur.fetchall()\n",
    " \n",
    "for row in rows:\n",
    "        print(row)"
   ]
  },
  {
   "cell_type": "code",
   "execution_count": null,
   "id": "e7f7fcce",
   "metadata": {},
   "outputs": [],
   "source": []
  },
  {
   "cell_type": "code",
   "execution_count": null,
   "id": "e06ab49e",
   "metadata": {},
   "outputs": [],
   "source": [
    "#/* Q12: Find the facilities with their usage by member, but not guests */"
   ]
  },
  {
   "cell_type": "code",
   "execution_count": 14,
   "id": "b49a9fd9",
   "metadata": {},
   "outputs": [
    {
     "name": "stdout",
     "output_type": "stream",
     "text": [
      "2.6.0\n",
      "(2, 'Badminton Court', 15, 'Bader', 'Florence')\n",
      "(0, 'Tennis Court 1', 12, 'Baker', 'Anne')\n",
      "(1, 'Tennis Court 2', 8, 'Boothe', 'Tim')\n",
      "(0, 'Tennis Court 1', 5, 'Butters', 'Gerald')\n",
      "(7, 'Snooker Table', 22, 'Coplin', 'Joan')\n",
      "(2, 'Badminton Court', 36, 'Crumpet', 'Erica')\n",
      "(2, 'Badminton Court', 7, 'Dare', 'Nancy')\n",
      "(3, 'Table Tennis', 13, 'Farrell', 'Jemima')\n",
      "(5, 'Massage Room 2', 20, 'Genting', 'Matthew')\n",
      "(0, 'Tennis Court 1', 35, 'Hunt', 'John')\n",
      "(1, 'Tennis Court 2', 11, 'Jones', 'David')\n",
      "(4, 'Massage Room 1', 4, 'Joplette', 'Janice')\n",
      "(2, 'Badminton Court', 21, 'Mackenzie', 'Anna')\n",
      "(0, 'Tennis Court 1', 10, 'Owen', 'Charles')\n",
      "(7, 'Snooker Table', 17, 'Pinker', 'David')\n",
      "(2, 'Badminton Court', 30, 'Purview', 'Millicent')\n",
      "(4, 'Massage Room 1', 3, 'Rownam', 'Tim')\n",
      "(7, 'Snooker Table', 27, 'Rumney', 'Henrietta')\n",
      "(1, 'Tennis Court 2', 24, 'Sarwin', 'Ramnaresh')\n",
      "(3, 'Table Tennis', 1, 'Smith', 'Darren')\n",
      "(1, 'Tennis Court 2', 9, 'Stibbons', 'Ponder')\n",
      "(1, 'Tennis Court 2', 6, 'Tracy', 'Burton')\n",
      "(7, 'Snooker Table', 33, 'Tupperware', 'Hyacinth')\n",
      "(2, 'Badminton Court', 29, 'Worthington-Smyth', 'Henry')\n"
     ]
    }
   ],
   "source": [
    "database = \"sqlite_db_pythonsqlite.db\"\n",
    " \n",
    "# create a database connection\n",
    "conn = create_connection(database)\n",
    "cur = conn.cursor()\n",
    "\n",
    "query2= \"\"\"SELECT facid, name, memid, surname, firstname \n",
    "FROM Bookings\n",
    "INNER join Facilities \n",
    "Using (facid)\n",
    "inner join Members\n",
    "Using (memid)\n",
    "where memid !=0 \n",
    "group by surname \"\"\"\n",
    "\n",
    "cur.execute(query2)\n",
    " \n",
    "rows = cur.fetchall()\n",
    " \n",
    "for row in rows:\n",
    "        print(row)"
   ]
  },
  {
   "cell_type": "code",
   "execution_count": null,
   "id": "1c3a5948",
   "metadata": {},
   "outputs": [],
   "source": [
    "#/* Q13: Find the facilities usage by month, but not guests */"
   ]
  },
  {
   "cell_type": "code",
   "execution_count": 19,
   "id": "27b428a3",
   "metadata": {},
   "outputs": [
    {
     "name": "stdout",
     "output_type": "stream",
     "text": [
      "2.6.0\n",
      "(3, 'Table Tennis', '07')\n",
      "(4, 'Massage Room 1', '07')\n",
      "(7, 'Snooker Table', '07')\n",
      "(8, 'Pool Table', '07')\n",
      "(0, 'Tennis Court 1', '07')\n",
      "(6, 'Squash Court', '07')\n",
      "(2, 'Badminton Court', '07')\n",
      "(1, 'Tennis Court 2', '07')\n",
      "(5, 'Massage Room 2', '07')\n",
      "(0, 'Tennis Court 1', '08')\n",
      "(1, 'Tennis Court 2', '08')\n",
      "(2, 'Badminton Court', '08')\n",
      "(3, 'Table Tennis', '08')\n",
      "(4, 'Massage Room 1', '08')\n",
      "(5, 'Massage Room 2', '08')\n",
      "(6, 'Squash Court', '08')\n",
      "(7, 'Snooker Table', '08')\n",
      "(8, 'Pool Table', '08')\n",
      "(0, 'Tennis Court 1', '09')\n",
      "(1, 'Tennis Court 2', '09')\n",
      "(2, 'Badminton Court', '09')\n",
      "(3, 'Table Tennis', '09')\n",
      "(4, 'Massage Room 1', '09')\n",
      "(5, 'Massage Room 2', '09')\n",
      "(6, 'Squash Court', '09')\n",
      "(7, 'Snooker Table', '09')\n",
      "(8, 'Pool Table', '09')\n"
     ]
    }
   ],
   "source": [
    "database = \"sqlite_db_pythonsqlite.db\"\n",
    " \n",
    "# create a database connection\n",
    "conn = create_connection(database)\n",
    "cur = conn.cursor()\n",
    "\n",
    "query2= \"\"\"SELECT distinct facid, name, strftime('%m', starttime) as Month\n",
    "FROM Bookings\n",
    "left join Facilities \n",
    "Using (facid)\n",
    "where memid !=0\"\"\"\n",
    "\n",
    "cur.execute(query2)\n",
    " \n",
    "rows = cur.fetchall()\n",
    " \n",
    "for row in rows:\n",
    "        print(row)"
   ]
  },
  {
   "cell_type": "code",
   "execution_count": null,
   "id": "361df21e",
   "metadata": {},
   "outputs": [],
   "source": []
  },
  {
   "cell_type": "code",
   "execution_count": null,
   "id": "514acc82",
   "metadata": {},
   "outputs": [],
   "source": []
  },
  {
   "cell_type": "code",
   "execution_count": null,
   "id": "606b1b05",
   "metadata": {},
   "outputs": [],
   "source": []
  },
  {
   "cell_type": "code",
   "execution_count": null,
   "id": "c9a30516",
   "metadata": {},
   "outputs": [],
   "source": []
  },
  {
   "cell_type": "code",
   "execution_count": null,
   "id": "048108e7",
   "metadata": {},
   "outputs": [],
   "source": []
  },
  {
   "cell_type": "code",
   "execution_count": null,
   "id": "79e8cdfc",
   "metadata": {},
   "outputs": [],
   "source": []
  }
 ],
 "metadata": {
  "kernelspec": {
   "display_name": "Python 3 (ipykernel)",
   "language": "python",
   "name": "python3"
  },
  "language_info": {
   "codemirror_mode": {
    "name": "ipython",
    "version": 3
   },
   "file_extension": ".py",
   "mimetype": "text/x-python",
   "name": "python",
   "nbconvert_exporter": "python",
   "pygments_lexer": "ipython3",
   "version": "3.8.10"
  }
 },
 "nbformat": 4,
 "nbformat_minor": 5
}
